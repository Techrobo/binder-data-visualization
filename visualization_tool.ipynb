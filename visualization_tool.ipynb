import pandas as pd
import matplotlib.pyplot as plt
import ipywidgets as widgets
from IPython.display import display

# Load dataset
df = pd.read_csv('data.csv')

# Dropdown widget for column selection
column_dropdown = widgets.Dropdown(
    options=df.columns,
    description='Column:',
    disabled=False,
)

# Function to update visualization based on dropdown selection
def update_visualization(column):
    plt.figure(figsize=(8, 5))
    df[column].value_counts().plot(kind='bar')
    plt.title(f"Distribution of {column}")
    plt.show()

# Observe changes in dropdown and update plot
def on_change(change):
    if change['type'] == 'change' and change['name'] == 'value':
        update_visualization(change['new'])

column_dropdown.observe(on_change)

# Display the dropdown and initial plot
display(column_dropdown)
update_visualization(df.columns[0])  # Display the first column by default
